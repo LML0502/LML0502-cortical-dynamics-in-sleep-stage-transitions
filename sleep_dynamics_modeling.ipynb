{
 "cells": [
  {
   "cell_type": "code",
   "execution_count": null,
   "metadata": {},
   "outputs": [
    {
     "name": "stderr",
     "output_type": "stream",
     "text": [
      "/Users/sihao/miniforge3/envs/brainpy/lib/python3.13/site-packages/tqdm/auto.py:21: TqdmWarning: IProgress not found. Please update jupyter and ipywidgets. See https://ipywidgets.readthedocs.io/en/stable/user_install.html\n",
      "  from .autonotebook import tqdm as notebook_tqdm\n"
     ]
    }
   ],
   "source": [
    "#!/usr/bin/env python3\n",
    "# -*- coding: utf-8 -*-\n",
    "\"\"\"\n",
    "Created on Sun. April 27 13:48:02 2025\n",
    "\n",
    "@author: Hao Si\n",
    "\"\"\"\n",
    "import brainpy as bp\n",
    "import brainpy.math as bm\n",
    "import matplotlib.pyplot as plt\n",
    "import numpy as np\n",
    "from matplotlib.gridspec import GridSpec\n",
    "import scipy\n",
    "\n",
    "def OU_noise(theta, sigma, duration, dt=None):\n",
    "    dt = bm.get_dt() if dt is None else dt\n",
    "    n_steps = int(duration/dt)\n",
    "\n",
    "    t = np.linspace(0, duration, n_steps)  # Time points\n",
    "    xi = np.zeros(n_steps)  # OU process values\n",
    "    xi[0] = 0  # Initial value (can be set to any value, here 0 for simplicity)\n",
    "\n",
    "    # Generate OU noise using the Euler-Maruyama method\n",
    "    for i in range(1, n_steps):\n",
    "        dW = np.random.normal(0, np.sqrt(dt))  # Increment of Wiener process\n",
    "        xi[i] = xi[i-1] - theta * xi[i-1] * dt + sigma * np.sqrt(2 * theta) * dW\n",
    "    return xi\n",
    "\n",
    "def plot_nullcline_fixpoints(pp,ax,legend_cfg,xy_label,hline_level=0,ms=2,linecolor='green',plot=True,returnx=False):\n",
    "    y_val = pp.F_fx(pp.resolutions[pp.x_var])\n",
    "    y_val = np.asarray(y_val)+hline_level\n",
    "    x_style = dict(color=linecolor, alpha=1., linewidth=1)\n",
    "    label = f\"d{pp.x_var}dt\"\n",
    "    if plot:\n",
    "        ax.plot(np.asarray(pp.resolutions[pp.x_var]), y_val, **x_style, label=label)\n",
    "        ax.axhline(0+hline_level,color='k',linewidth=1)\n",
    "\n",
    "    fps, _, pars = pp._get_fixed_points(pp.resolutions[pp.x_var])\n",
    "\n",
    "    # import scipy\n",
    "    # saddle_peak = scipy.signal.find_peaks(-bm.cumsum(y_val))[0][0]\n",
    "    stable_peak = scipy.signal.find_peaks(bm.cumsum(y_val))[0]\n",
    "\n",
    "    from brainpy._src.analysis import stability, plotstyle, constants as C, utils\n",
    "\n",
    "    container = {a: [] for a in stability.get_1d_stability_types()}\n",
    "    for i in range(len(fps)):\n",
    "        x = fps[i]\n",
    "        dfdx = pp.F_dfxdx(x)\n",
    "        fp_type = stability.stability_analysis(dfdx)\n",
    "        utils.output(f\"Fixed point #{i + 1} at {pp.x_var}={x} is a {fp_type}.\")\n",
    "        container[fp_type].append(x)\n",
    "    # ax.plot(container['unstable point'][0]+0.045,-bm.cumsum(y_val)[saddle_peak]+0.24,'ro',ms=10)\n",
    "    if plot:\n",
    "        if len(container['unstable point'])>0:\n",
    "            ax.plot(container['unstable point'][0],0+hline_level,'ko',ms=ms,markerfacecolor='white',label='Unstable point')\n",
    "        if len(container['stable point'])>0:\n",
    "            for ix in range(len(container['stable point'])):\n",
    "                ax.plot(container['stable point'][ix],0+hline_level,'ko',ms=ms,label='Stable point')\n",
    "        if len(container['stable point'])>1:\n",
    "            ax.annotate('', xy=(container['stable point'][0]+0.18, 0+hline_level), xytext=(container['stable point'][0]+0.1, 0+hline_level), arrowprops=dict(facecolor='black',arrowstyle='<|-',linewidth=.5))\n",
    "            ax.annotate('', xy=(container['stable point'][0]-0.1, 0+hline_level), xytext=(container['stable point'][0]-0.05, 0+hline_level), arrowprops=dict(facecolor='black',arrowstyle='<|-',linewidth=.5))\n",
    "            ax.annotate('', xy=(container['stable point'][1]-0.2, 0+hline_level), xytext=(container['stable point'][1]-0.1, 0+hline_level), arrowprops=dict(facecolor='black',arrowstyle='<|-',linewidth=.5))\n",
    "            ax.annotate('', xy=(container['stable point'][1]+0.09, 0+hline_level), xytext=(container['stable point'][1]+0.02, 0+hline_level), arrowprops=dict(facecolor='black',arrowstyle='<|-',linewidth=.5))\n",
    "        elif container['stable point'][0]<0.5:\n",
    "            ax.annotate('', xy=(container['stable point'][0]+0.18, 0+hline_level), xytext=(container['stable point'][0]+0.1, 0+hline_level), arrowprops=dict(facecolor='black',arrowstyle='<|-',linewidth=.5))\n",
    "            ax.annotate('', xy=(container['stable point'][0]-0.05, 0+hline_level), xytext=(container['stable point'][0]-0.025, 0+hline_level), arrowprops=dict(facecolor='black',arrowstyle='<|-',linewidth=.5))\n",
    "        else:\n",
    "            ax.annotate('', xy=(container['stable point'][0]-0.2, 0+hline_level), xytext=(container['stable point'][0]-0.1, 0+hline_level), arrowprops=dict(facecolor='black',arrowstyle='<|-',linewidth=.5))\n",
    "            ax.annotate('', xy=(container['stable point'][0]+0.09, 0+hline_level), xytext=(container['stable point'][0]+0.02, 0+hline_level), arrowprops=dict(facecolor='black',arrowstyle='<|-',linewidth=.5))\n",
    "    \n",
    "        #xy - start, xytext - end\n",
    "        if xy_label[0]:\n",
    "            ax.set_xlabel('$r$')\n",
    "        if xy_label[1]:\n",
    "            ax.set_ylabel('$dr/dt$')\n",
    "        ax.set_yticks([])\n",
    "        # ax.set_xticks([])\n",
    "\n",
    "        if legend_cfg['on']==True:\n",
    "            plt.legend(loc=legend_cfg['loc'], prop={'size': legend_cfg['size']},frameon=legend_cfg['frame'])\n",
    "\n",
    "    if returnx:\n",
    "        return container\n",
    "\n",
    "bm.enable_x64()  # It's better to enable x64 when performing analysis\n",
    "bm.set_platform('cpu')"
   ]
  },
  {
   "cell_type": "markdown",
   "metadata": {},
   "source": [
    "# This is code for rate model of sleep transition dynamics.\n",
    "\n",
    "Progressive cortical dynamics and underlying mechanisms in sleep stage transitions. Manli Luo#, Hao Si#, ... & Yina Wei. 2025\n",
    "\n",
    "### Install Brainpy (https://brainpy.readthedocs.io/en/latest/) for the simulation.\n",
    "\n",
    "## The key sub-graphs in Fig 8 can be generated as below.\n",
    "\n",
    "### Fig 8b: get fixed points\n",
    "\n",
    "### Fig 8c: the rate temporal dynamics with modulating w \n",
    "\n",
    "### Fig 8e: plot nullcline\n",
    "\n",
    "### Fig 8f: get the map of fixed points"
   ]
  },
  {
   "cell_type": "markdown",
   "metadata": {},
   "source": [
    "### rate model, get fixed points (fig8b)"
   ]
  },
  {
   "cell_type": "code",
   "execution_count": 5,
   "metadata": {},
   "outputs": [
    {
     "data": {
      "text/plain": [
       "<matplotlib.collections.FillBetweenPolyCollection at 0x136cacad0>"
      ]
     },
     "execution_count": 5,
     "metadata": {},
     "output_type": "execute_result"
    },
    {
     "data": {
      "image/png": "[encoded data removed]",
      "text/plain": [
       "<Figure size 300x300 with 1 Axes>"
      ]
     },
     "metadata": {},
     "output_type": "display_data"
    }
   ],
   "source": [
    "r0 = 0.5\n",
    "x0 = 5\n",
    "w = 6.5\n",
    "Iext = 2.5\n",
    "def R_(x):\n",
    "    return 1/(1+bm.exp(-(x - x0)))\n",
    "@bp.odeint\n",
    "def int_r(r, t, w):\n",
    "    return (-r + R_(w*r + Iext))/25\n",
    "\n",
    "stable_points = []\n",
    "stable_points_2 = [[],[]]\n",
    "Iex_poinst = []\n",
    "Iex_arr1 = np.arange(0.,10.1,0.1)\n",
    "for Iex in Iex_arr1:\n",
    "    pp = bp.analysis.PhasePlane1D(\n",
    "        model=int_r,\n",
    "        target_vars={'r': [0, 1.01]},\n",
    "        pars_update={'w': Iex},\n",
    "        resolutions={'r': 0.001}\n",
    "        )\n",
    "    fps, _, pars = pp._get_fixed_points(pp.resolutions[pp.x_var])\n",
    "\n",
    "    from brainpy._src.analysis import stability, plotstyle, constants as C, utils\n",
    "\n",
    "    container = {a: [] for a in stability.get_1d_stability_types()}\n",
    "    for i in range(len(fps)):\n",
    "        x = fps[i]\n",
    "        dfdx = pp.F_dfxdx(x)\n",
    "        fp_type = stability.stability_analysis(dfdx)\n",
    "        container[fp_type].append(x)\n",
    "    if len(container['stable point'])>1:\n",
    "        stable_points_2[0].append(Iex)\n",
    "        stable_points_2[1].append(container['stable point'][1])\n",
    "    stable_points.append(container['stable point'][0])\n",
    "    # Iex_poinst.append()\n",
    "\n",
    "fig = plt.figure(figsize=(3,3))\n",
    "gs = GridSpec(1,1,figure=fig)\n",
    "\n",
    "ax = fig.add_subplot(gs[0])\n",
    "ax.plot(Iex_arr1,stable_points,'ko',ms=2)\n",
    "ax.plot(stable_points_2[0],stable_points_2[1],'ko',ms=2)\n",
    "ax.set_xlabel('w')\n",
    "ax.set_ylabel('Stable points')\n",
    "ax.fill_between([4.5,5.5],0.,1.,facecolor='pink',alpha=0.5)"
   ]
  },
  {
   "cell_type": "markdown",
   "metadata": {},
   "source": [
    "### rate model, temporal dynamics, modulating w (fig8c)"
   ]
  },
  {
   "cell_type": "code",
   "execution_count": 6,
   "metadata": {},
   "outputs": [
    {
     "name": "stderr",
     "output_type": "stream",
     "text": [
      "Predict 100000 steps: : 100%|██████████| 100000/100000 [00:01<00:00, 79135.27it/s]\n"
     ]
    },
    {
     "data": {
      "image/png": "[encoded data removed]",
      "text/plain": [
       "<Figure size 500x200 with 3 Axes>"
      ]
     },
     "metadata": {},
     "output_type": "display_data"
    }
   ],
   "source": [
    "class rate(bp.DynamicalSystem):\n",
    "  def __init__(self, num,method='exp_auto'):\n",
    "    super(rate, self).__init__()\n",
    "\n",
    "    self.x0 = 5\n",
    "    self.r0 = 0.5\n",
    "    self.tau_r = 1\n",
    "    self.Iext = 2.\n",
    "\n",
    "    # self.r = bm.Variable(bm.random.uniform(0., 1.,num))\n",
    "    self.r = bm.Variable(bm.ones(num))\n",
    "    self.w = bm.Variable(bm.zeros(num))\n",
    "\n",
    "    self.int_r = bp.odeint(self.dr, method=method)\n",
    "  def R_(self,x):\n",
    "    return 1/(1+bm.exp(-(x - self.x0)))\n",
    "  def dr(self, r, t, Inj,w=0.):\n",
    "    return (-r + self.R_(w*r + self.Iext + Inj ))/self.tau_r\n",
    "    \n",
    "  def update(self,Inj):\n",
    "    t = bp.share['t']\n",
    "    dt = bp.share['dt']\n",
    "    self.r.value = self.int_r(self.r, t, Inj, self.w, dt)\n",
    "    self.w[:] = 0\n",
    "# initialize a network\n",
    "num = 3\n",
    "model = rate(num)\n",
    "# simulation with an input\n",
    "duration = 10000\n",
    "w = np.array([5.3,6,8.5])#np.linspace(5,10,num)\n",
    "runner = bp.DSRunner(model, monitors=['r'], inputs=['w', w])\n",
    "noise = OU_noise(theta=.01,sigma=.5,duration=duration)#ou noise\n",
    "noise_ = noise+0.5\n",
    "runner.run(inputs=noise_)\n",
    "\n",
    "# visualization\n",
    "fig = plt.figure(figsize=(5,2))\n",
    "gs = GridSpec(w.shape[0],1,figure=fig)\n",
    "\n",
    "for ix in range(w.shape[0]):\n",
    "  ax = fig.add_subplot(gs[ix])\n",
    "  bp.visualize.line_plot(runner.mon.ts, runner.mon.r[:,ix],show=False)\n",
    "  ax.set_ylim([0,1.])\n",
    "  ax.set_title('w: {}'.format(w[ix]))"
   ]
  },
  {
   "cell_type": "markdown",
   "metadata": {},
   "source": [
    "### rate model, plot nullcline (fig8e)"
   ]
  },
  {
   "cell_type": "code",
   "execution_count": 7,
   "metadata": {},
   "outputs": [
    {
     "name": "stderr",
     "output_type": "stream",
     "text": [
      "Fixed point #1 at r=0.07866183221291412 is a stable point.\n",
      "Fixed point #1 at r=0.14479410825606473 is a stable point.\n",
      "Fixed point #2 at r=0.5 is a unstable point.\n",
      "Fixed point #3 at r=0.5 is a unstable point.\n",
      "Fixed point #4 at r=0.855205891743935 is a stable point.\n",
      "Fixed point #1 at r=0.954069262895885 is a stable point.\n"
     ]
    },
    {
     "data": {
      "image/png": "[encoded data removed]",
      "text/plain": [
       "<Figure size 200x200 with 1 Axes>"
      ]
     },
     "metadata": {},
     "output_type": "display_data"
    },
    {
     "data": {
      "image/png": "[encoded data removed]",
      "text/plain": [
       "<Figure size 200x200 with 1 Axes>"
      ]
     },
     "metadata": {},
     "output_type": "display_data"
    },
    {
     "data": {
      "image/png": "[encoded data removed]",
      "text/plain": [
       "<Figure size 200x200 with 1 Axes>"
      ]
     },
     "metadata": {},
     "output_type": "display_data"
    }
   ],
   "source": [
    "r0 = 0.5\n",
    "x0 = 5\n",
    "w = 6.5\n",
    "Iext = 2.5\n",
    "def R_(x):\n",
    "    return 1/(1+bm.exp(-(x - x0)))\n",
    "@bp.odeint\n",
    "def int_r(r, t, w):\n",
    "    return (-r + R_(w*r + Iext))\n",
    "\n",
    "pp_list = []\n",
    "for ix,w in enumerate([.5,5.,5.8]):\n",
    "    fig = plt.figure(figsize=(2,2))\n",
    "    gs = GridSpec(1,1,figure=fig)\n",
    "    pp = bp.analysis.PhasePlane1D(\n",
    "        model=int_r,\n",
    "        target_vars={'r': [0., 1.01]},\n",
    "        pars_update={'w': w},\n",
    "        resolutions={'r': 0.001}\n",
    "        )\n",
    "    pp_list.append(pp)\n",
    "\n",
    "\n",
    "    ax = fig.add_subplot(gs[0])\n",
    "    legend_cfg = {'on':False,'loc':1, 'size':6, 'frame':False}\n",
    "    plot_nullcline_fixpoints(pp,ax,legend_cfg,xy_label=[False,False])\n"
   ]
  },
  {
   "cell_type": "markdown",
   "metadata": {},
   "source": [
    "### rate model, get the map of fixed points (fig8f)"
   ]
  },
  {
   "cell_type": "code",
   "execution_count": null,
   "metadata": {},
   "outputs": [
    {
     "data": {
      "text/plain": [
       "<matplotlib.image.AxesImage at 0x369fe8550>"
      ]
     },
     "execution_count": 10,
     "metadata": {},
     "output_type": "execute_result"
    },
    {
     "data": {
      "image/png": "[encoded data removed]",
      "text/plain": [
       "<Figure size 640x480 with 1 Axes>"
      ]
     },
     "metadata": {},
     "output_type": "display_data"
    }
   ],
   "source": [
    "Iex_arr = np.arange(0.,5.2,0.1)\n",
    "w_arr = np.arange(0.,10.2,0.1)\n",
    "stable_I_w = np.zeros((Iex_arr.shape[0],w_arr.shape[0]))\n",
    "for j,w in enumerate(w_arr):\n",
    "    r0 = 0.5\n",
    "    x0 = 5\n",
    "    def R_(x):\n",
    "        return 1/(1+bm.exp(-(x - x0)))\n",
    "    @bp.odeint\n",
    "    def int_r(r, t, Iext):\n",
    "        return -r + R_(w*r + Iext)\n",
    "    for i,Iex in enumerate(Iex_arr):\n",
    "        pp = bp.analysis.PhasePlane1D(\n",
    "            model=int_r,\n",
    "            target_vars={'r': [0, 1.01]},\n",
    "            pars_update={'Iext': Iex},\n",
    "            resolutions={'r': 0.001}\n",
    "            )\n",
    "        fps, _, pars = pp._get_fixed_points(pp.resolutions[pp.x_var])\n",
    "\n",
    "        from brainpy._src.analysis import stability, plotstyle, constants as C, utils\n",
    "\n",
    "        container = {a: [] for a in stability.get_1d_stability_types()}\n",
    "        for ix in range(len(fps)):\n",
    "            x = fps[ix]\n",
    "            dfdx = pp.F_dfxdx(x)\n",
    "            fp_type = stability.stability_analysis(dfdx)\n",
    "            # utils.output(f\"Fixed point #{i + 1} at {pp.x_var}={x} is a {fp_type}.\")\n",
    "            container[fp_type].append(x)\n",
    "        stable_I_w[Iex_arr.shape[0]-i-1,j] = len(container['stable point'])\n",
    "\n",
    "plt.imshow(stable_I_w,aspect='auto')"
   ]
  }
 ],
 "metadata": {
  "kernelspec": {
   "display_name": "brainpy",
   "language": "python",
   "name": "python3"
  },
  "language_info": {
   "codemirror_mode": {
    "name": "ipython",
    "version": 3
   },
   "file_extension": ".py",
   "mimetype": "text/x-python",
   "name": "python",
   "nbconvert_exporter": "python",
   "pygments_lexer": "ipython3",
   "version": "3.13.2"
  }
 },
 "nbformat": 4,
 "nbformat_minor": 2
}
